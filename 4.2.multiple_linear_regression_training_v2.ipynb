{
 "cells": [
  {
   "cell_type": "markdown",
   "metadata": {},
   "source": [
    "<center>\n",
    "    <img src=\"https://cf-courses-data.s3.us.cloud-object-storage.appdomain.cloud/IBMDeveloperSkillsNetwork-DL0110EN-SkillsNetwork/Template/module%201/images/IDSNlogo.png\" width=\"300\" alt=\"cognitiveclass.ai logo\"  />\n",
    "</center>\n"
   ]
  },
  {
   "cell_type": "markdown",
   "metadata": {},
   "source": [
    "<h1>Linear Regression Multiple Outputs</h1> \n"
   ]
  },
  {
   "cell_type": "markdown",
   "metadata": {},
   "source": [
    "<h2>Objective</h2><ul><li> How to create a complicated models using pytorch build in functions.</li></ul> \n"
   ]
  },
  {
   "cell_type": "markdown",
   "metadata": {},
   "source": [
    "<h2>Table of Contents</h2>\n",
    "<p>In this lab, you will create a model the PyTroch way. This will help you more complicated models.</p>\n",
    "\n",
    "<ul>\n",
    "    <li><a href=\"#Makeup_Data\">Make Some Data</a></li>\n",
    "    <li><a href=\"#Model_Cost\">Create the Model and Cost Function the PyTorch way</a></li>\n",
    "    <li><a href=\"#BGD\">Train the Model: Batch Gradient Descent</a></li>\n",
    "</ul>\n",
    "<p>Estimated Time Needed: <strong>20 min</strong></p>\n",
    "\n",
    "<hr>\n"
   ]
  },
  {
   "cell_type": "markdown",
   "metadata": {},
   "source": [
    "<h2>Preparation</h2>\n"
   ]
  },
  {
   "cell_type": "markdown",
   "metadata": {},
   "source": [
    "We'll need the following libraries:\n"
   ]
  },
  {
   "cell_type": "code",
   "execution_count": 38,
   "metadata": {},
   "outputs": [],
   "source": [
    "# Import the libraries we need for this lab\n",
    "\n",
    "from torch import nn,optim\n",
    "import torch\n",
    "import numpy as np\n",
    "import matplotlib.pyplot as plt\n",
    "\n",
    "from mpl_toolkits.mplot3d import Axes3D\n",
    "from torch.utils.data import Dataset, DataLoader"
   ]
  },
  {
   "cell_type": "markdown",
   "metadata": {},
   "source": [
    "Set the random seed:\n"
   ]
  },
  {
   "cell_type": "code",
   "execution_count": 39,
   "metadata": {},
   "outputs": [
    {
     "data": {
      "text/plain": [
       "<torch._C.Generator at 0x7f0b0808fbf0>"
      ]
     },
     "execution_count": 39,
     "metadata": {},
     "output_type": "execute_result"
    }
   ],
   "source": [
    "# Set the random seed to 1. \n",
    "\n",
    "torch.manual_seed(1)"
   ]
  },
  {
   "cell_type": "markdown",
   "metadata": {},
   "source": [
    "Use this function for plotting: \n"
   ]
  },
  {
   "cell_type": "code",
   "execution_count": 40,
   "metadata": {},
   "outputs": [],
   "source": [
    "# The function for plotting 2D\n",
    "\n",
    "def Plot_2D_Plane(model, dataset, n=0):\n",
    "    w1 = model.state_dict()['linear.weight'].numpy()[0][0]\n",
    "    w2 = model.state_dict()['linear.weight'].numpy()[0][1]\n",
    "    b = model.state_dict()['linear.bias'].numpy()\n",
    "\n",
    "    # Data\n",
    "    x1 = data_set.x[:, 0].view(-1, 1).numpy()\n",
    "    x2 = data_set.x[:, 1].view(-1, 1).numpy()\n",
    "    y = data_set.y.numpy()\n",
    "\n",
    "    # Make plane\n",
    "    X, Y = np.meshgrid(np.arange(x1.min(), x1.max(), 0.05), np.arange(x2.min(), x2.max(), 0.05))\n",
    "    yhat = w1 * X + w2 * Y + b\n",
    "\n",
    "    # Plotting\n",
    "    fig = plt.figure()\n",
    "    ax = fig.gca(projection='3d')\n",
    "\n",
    "    ax.plot(x1[:, 0], x2[:, 0], y[:, 0],'ro', label='y') # Scatter plot\n",
    "    \n",
    "    ax.plot_surface(X, Y, yhat) # Plane plot\n",
    "    \n",
    "    ax.set_xlabel('x1 ')\n",
    "    ax.set_ylabel('x2 ')\n",
    "    ax.set_zlabel('y')\n",
    "    plt.title('estimated plane iteration:' + str(n))\n",
    "    ax.legend()\n",
    "\n",
    "    plt.show()"
   ]
  },
  {
   "cell_type": "markdown",
   "metadata": {},
   "source": [
    "<!--Empty Space for separating topics-->\n"
   ]
  },
  {
   "cell_type": "markdown",
   "metadata": {},
   "source": [
    "<h2 id=\" #Makeup_Data\" > Make Some Data </h2>\n"
   ]
  },
  {
   "cell_type": "markdown",
   "metadata": {},
   "source": [
    "Create a dataset class with two-dimensional features:\n"
   ]
  },
  {
   "cell_type": "code",
   "execution_count": 41,
   "metadata": {},
   "outputs": [],
   "source": [
    "# Create a 2D dataset\n",
    "\n",
    "class Data2D(Dataset):\n",
    "    \n",
    "    # Constructor\n",
    "    def __init__(self):\n",
    "        self.x = torch.zeros(20, 2) #so we're hardcodind a dataset with 20 instances and 2 columns.\n",
    "        self.x[:, 0] = torch.arange(-1, 1, 0.1)\n",
    "        self.x[:, 1] = torch.arange(-1, 1, 0.1)\n",
    "        self.w = torch.tensor([[1.0], [1.0]])\n",
    "        self.b = 1\n",
    "        self.f = torch.mm(self.x, self.w) + self.b    \n",
    "        self.y = self.f + 0.1 * torch.randn((self.x.shape[0],1))\n",
    "        self.len = self.x.shape[0]\n",
    "\n",
    "    # Getter\n",
    "    def __getitem__(self, index):          \n",
    "        return self.x[index], self.y[index]\n",
    "    \n",
    "    # Get Length\n",
    "    def __len__(self):\n",
    "        return self.len\n",
    "\n",
    "    #Return the shape of the object.\n",
    "    def get_shape(self):\n",
    "        return self.x.shape"
   ]
  },
  {
   "cell_type": "markdown",
   "metadata": {},
   "source": [
    "Create a dataset object:\n"
   ]
  },
  {
   "cell_type": "code",
   "execution_count": 42,
   "metadata": {},
   "outputs": [
    {
     "name": "stdout",
     "output_type": "stream",
     "text": [
      "torch.Size([20, 2])\n"
     ]
    }
   ],
   "source": [
    "# Create the dataset object\n",
    "\n",
    "data_set = Data2D()\n",
    "print(data_set.get_shape())"
   ]
  },
  {
   "cell_type": "markdown",
   "metadata": {},
   "source": [
    "<h2 id=\"Model_Cost\">Create the Model, Optimizer, and Total Loss Function (Cost)</h2>\n"
   ]
  },
  {
   "cell_type": "markdown",
   "metadata": {},
   "source": [
    "Create a customized linear regression module: \n"
   ]
  },
  {
   "cell_type": "code",
   "execution_count": 68,
   "metadata": {},
   "outputs": [],
   "source": [
    "# Create a customized linear\n",
    "\n",
    "class linear_regression(nn.Module):\n",
    "    \n",
    "    # Constructor\n",
    "    def __init__(self, input_size, output_size):\n",
    "        super(linear_regression, self).__init__()\n",
    "        self.linear = nn.Linear(input_size, output_size)\n",
    "        \n",
    "    # Prediction\n",
    "    def forward(self, x):\n",
    "        yhat = self.linear(x)\n",
    "        return yhat"
   ]
  },
  {
   "cell_type": "markdown",
   "metadata": {},
   "source": [
    "Create a model. Use two features: make the input size 2 and the output size 1: \n"
   ]
  },
  {
   "cell_type": "code",
   "execution_count": 69,
   "metadata": {},
   "outputs": [
    {
     "name": "stdout",
     "output_type": "stream",
     "text": [
      "The parameters:  [Parameter containing:\n",
      "tensor([[ 0.0939, -0.4472]], requires_grad=True), Parameter containing:\n",
      "tensor([-0.1292], requires_grad=True)]\n"
     ]
    }
   ],
   "source": [
    "# Create the linear regression model and print the parameters\n",
    "\n",
    "model = linear_regression(2,1)\n",
    "print(\"The parameters: \", list(model.parameters()))"
   ]
  },
  {
   "cell_type": "markdown",
   "metadata": {},
   "source": [
    "Create an optimizer  object. Set the learning rate to 0.1. <b>Don't forget to enter the model parameters in the constructor.</b>\n"
   ]
  },
  {
   "cell_type": "markdown",
   "metadata": {},
   "source": [
    "<img src=\"https://s3-api.us-geo.objectstorage.softlayer.net/cf-courses-data/CognitiveClass/DL0110EN/notebook_images%20/chapter2/2.6.2paramater_hate.png\" width = \"100\" alt=\"How the optimizer works\" />\n"
   ]
  },
  {
   "cell_type": "code",
   "execution_count": 70,
   "metadata": {},
   "outputs": [],
   "source": [
    "# Create the optimizer\n",
    "\n",
    "optimizer = optim.SGD(model.parameters(), lr=0.1)"
   ]
  },
  {
   "cell_type": "markdown",
   "metadata": {},
   "source": [
    "Create the criterion function that calculates the total loss or cost:\n"
   ]
  },
  {
   "cell_type": "code",
   "execution_count": 72,
   "metadata": {},
   "outputs": [],
   "source": [
    "# Create the cost function\n",
    "criterion = nn.MSELoss()"
   ]
  },
  {
   "cell_type": "markdown",
   "metadata": {},
   "source": [
    "Create a data loader object. Set the batch_size equal to 2: \n"
   ]
  },
  {
   "cell_type": "code",
   "execution_count": 73,
   "metadata": {},
   "outputs": [],
   "source": [
    "# Create the data loader\n",
    "\n",
    "train_loader = DataLoader(dataset=data_set, batch_size=2)"
   ]
  },
  {
   "cell_type": "markdown",
   "metadata": {},
   "source": [
    "<!--Empty Space for separating topics-->\n"
   ]
  },
  {
   "cell_type": "markdown",
   "metadata": {},
   "source": [
    "<h2 id=\"BGD\">Train the Model via Mini-Batch Gradient Descent</h2>\n"
   ]
  },
  {
   "cell_type": "markdown",
   "metadata": {},
   "source": [
    "Run 100 epochs of Mini-Batch Gradient Descent and store the total loss or cost for every iteration. Remember that this is an approximation of the true total loss or cost:\n"
   ]
  },
  {
   "cell_type": "code",
   "execution_count": 74,
   "metadata": {},
   "outputs": [
    {
     "name": "stdout",
     "output_type": "stream",
     "text": [
      "Before Training: \n"
     ]
    },
    {
     "data": {
      "image/png": "[encoded data removed]",
      "text/plain": [
       "<Figure size 432x288 with 1 Axes>"
      ]
     },
     "metadata": {
      "needs_background": "light"
     },
     "output_type": "display_data"
    },
    {
     "name": "stdout",
     "output_type": "stream",
     "text": [
      "Loss at epoch 0 is: 1.506611943244934\n",
      "Loss at epoch 1 is: 0.0765586569905281\n",
      "Loss at epoch 2 is: 0.017498036846518517\n",
      "Loss at epoch 3 is: 0.012757540680468082\n",
      "Loss at epoch 4 is: 0.012174546718597412\n",
      "Loss at epoch 5 is: 0.012097511440515518\n",
      "Loss at epoch 6 is: 0.012087498791515827\n",
      "Loss at epoch 7 is: 0.012086194008588791\n",
      "Loss at epoch 8 is: 0.012086073867976665\n",
      "Loss at epoch 9 is: 0.012086033821105957\n",
      "Loss at epoch 10 is: 0.012086033821105957\n",
      "Loss at epoch 11 is: 0.012086033821105957\n",
      "Loss at epoch 12 is: 0.012086033821105957\n",
      "Loss at epoch 13 is: 0.012086033821105957\n",
      "Loss at epoch 14 is: 0.012086033821105957\n",
      "Loss at epoch 15 is: 0.012086033821105957\n",
      "Loss at epoch 16 is: 0.012086033821105957\n",
      "Loss at epoch 17 is: 0.012086033821105957\n",
      "Loss at epoch 18 is: 0.012086033821105957\n",
      "Loss at epoch 19 is: 0.012086033821105957\n",
      "Loss at epoch 20 is: 0.012086033821105957\n",
      "Loss at epoch 21 is: 0.012086033821105957\n",
      "Loss at epoch 22 is: 0.012086033821105957\n",
      "Loss at epoch 23 is: 0.012086033821105957\n",
      "Loss at epoch 24 is: 0.012086033821105957\n",
      "Loss at epoch 25 is: 0.012086033821105957\n",
      "Loss at epoch 26 is: 0.012086033821105957\n",
      "Loss at epoch 27 is: 0.012086033821105957\n",
      "Loss at epoch 28 is: 0.012086033821105957\n",
      "Loss at epoch 29 is: 0.012086033821105957\n",
      "Loss at epoch 30 is: 0.012086033821105957\n",
      "Loss at epoch 31 is: 0.012086033821105957\n",
      "Loss at epoch 32 is: 0.012086033821105957\n",
      "Loss at epoch 33 is: 0.012086033821105957\n",
      "Loss at epoch 34 is: 0.012086033821105957\n",
      "Loss at epoch 35 is: 0.012086033821105957\n",
      "Loss at epoch 36 is: 0.012086033821105957\n",
      "Loss at epoch 37 is: 0.012086033821105957\n",
      "Loss at epoch 38 is: 0.012086033821105957\n",
      "Loss at epoch 39 is: 0.012086033821105957\n",
      "Loss at epoch 40 is: 0.012086033821105957\n",
      "Loss at epoch 41 is: 0.012086033821105957\n",
      "Loss at epoch 42 is: 0.012086033821105957\n",
      "Loss at epoch 43 is: 0.012086033821105957\n",
      "Loss at epoch 44 is: 0.012086033821105957\n",
      "Loss at epoch 45 is: 0.012086033821105957\n",
      "Loss at epoch 46 is: 0.012086033821105957\n",
      "Loss at epoch 47 is: 0.012086033821105957\n",
      "Loss at epoch 48 is: 0.012086033821105957\n",
      "Loss at epoch 49 is: 0.012086033821105957\n",
      "Loss at epoch 50 is: 0.012086033821105957\n",
      "Loss at epoch 51 is: 0.012086033821105957\n",
      "Loss at epoch 52 is: 0.012086033821105957\n",
      "Loss at epoch 53 is: 0.012086033821105957\n",
      "Loss at epoch 54 is: 0.012086033821105957\n",
      "Loss at epoch 55 is: 0.012086033821105957\n",
      "Loss at epoch 56 is: 0.012086033821105957\n",
      "Loss at epoch 57 is: 0.012086033821105957\n",
      "Loss at epoch 58 is: 0.012086033821105957\n",
      "Loss at epoch 59 is: 0.012086033821105957\n",
      "Loss at epoch 60 is: 0.012086033821105957\n",
      "Loss at epoch 61 is: 0.012086033821105957\n",
      "Loss at epoch 62 is: 0.012086033821105957\n",
      "Loss at epoch 63 is: 0.012086033821105957\n",
      "Loss at epoch 64 is: 0.012086033821105957\n",
      "Loss at epoch 65 is: 0.012086033821105957\n",
      "Loss at epoch 66 is: 0.012086033821105957\n",
      "Loss at epoch 67 is: 0.012086033821105957\n",
      "Loss at epoch 68 is: 0.012086033821105957\n",
      "Loss at epoch 69 is: 0.012086033821105957\n",
      "Loss at epoch 70 is: 0.012086033821105957\n",
      "Loss at epoch 71 is: 0.012086033821105957\n",
      "Loss at epoch 72 is: 0.012086033821105957\n",
      "Loss at epoch 73 is: 0.012086033821105957\n",
      "Loss at epoch 74 is: 0.012086033821105957\n",
      "Loss at epoch 75 is: 0.012086033821105957\n",
      "Loss at epoch 76 is: 0.012086033821105957\n",
      "Loss at epoch 77 is: 0.012086033821105957\n",
      "Loss at epoch 78 is: 0.012086033821105957\n",
      "Loss at epoch 79 is: 0.012086033821105957\n",
      "Loss at epoch 80 is: 0.012086033821105957\n",
      "Loss at epoch 81 is: 0.012086033821105957\n",
      "Loss at epoch 82 is: 0.012086033821105957\n",
      "Loss at epoch 83 is: 0.012086033821105957\n",
      "Loss at epoch 84 is: 0.012086033821105957\n",
      "Loss at epoch 85 is: 0.012086033821105957\n",
      "Loss at epoch 86 is: 0.012086033821105957\n",
      "Loss at epoch 87 is: 0.012086033821105957\n",
      "Loss at epoch 88 is: 0.012086033821105957\n",
      "Loss at epoch 89 is: 0.012086033821105957\n",
      "Loss at epoch 90 is: 0.012086033821105957\n",
      "Loss at epoch 91 is: 0.012086033821105957\n",
      "Loss at epoch 92 is: 0.012086033821105957\n",
      "Loss at epoch 93 is: 0.012086033821105957\n",
      "Loss at epoch 94 is: 0.012086033821105957\n",
      "Loss at epoch 95 is: 0.012086033821105957\n",
      "Loss at epoch 96 is: 0.012086033821105957\n",
      "Loss at epoch 97 is: 0.012086033821105957\n",
      "Loss at epoch 98 is: 0.012086033821105957\n",
      "Loss at epoch 99 is: 0.012086033821105957\n",
      "After Training: \n"
     ]
    },
    {
     "data": {
      "image/png": "[encoded data removed]",
      "text/plain": [
       "<Figure size 432x288 with 1 Axes>"
      ]
     },
     "metadata": {
      "needs_background": "light"
     },
     "output_type": "display_data"
    }
   ],
   "source": [
    "# Train the model\n",
    "\n",
    "LOSS = []\n",
    "print(\"Before Training: \")\n",
    "Plot_2D_Plane(model, data_set)   \n",
    "epochs = 100\n",
    "   \n",
    "def train_model(epochs):    \n",
    "    for epoch in range(epochs):\n",
    "        for x,y in train_loader:\n",
    "            yhat = model(x) \n",
    "            loss = criterion(yhat, y)\n",
    "            LOSS.append(loss.item())\n",
    "            optimizer.zero_grad()\n",
    "            loss.backward()\n",
    "            optimizer.step()\n",
    "        print(\"Loss at epoch {} is: {}\".format(epoch, loss)) \n",
    "train_model(epochs)\n",
    "print(\"After Training: \")\n",
    "Plot_2D_Plane(model, data_set, epochs) \n"
   ]
  },
  {
   "cell_type": "code",
   "execution_count": 75,
   "metadata": {},
   "outputs": [
    {
     "data": {
      "text/plain": [
       "Text(0, 0.5, 'Cost/total loss ')"
      ]
     },
     "execution_count": 75,
     "metadata": {},
     "output_type": "execute_result"
    },
    {
     "data": {
      "image/png": "[encoded data removed]",
      "text/plain": [
       "<Figure size 432x288 with 1 Axes>"
      ]
     },
     "metadata": {
      "needs_background": "light"
     },
     "output_type": "display_data"
    }
   ],
   "source": [
    "# Plot out the Loss and iteration diagram\n",
    "\n",
    "plt.plot(LOSS)\n",
    "plt.xlabel(\"Iterations \")\n",
    "plt.ylabel(\"Cost/total loss \")"
   ]
  },
  {
   "cell_type": "markdown",
   "metadata": {},
   "source": [
    "<h3>Practice</h3>\n"
   ]
  },
  {
   "cell_type": "markdown",
   "metadata": {},
   "source": [
    "Create a new <code>model1</code>. Train the model with a batch size 30 and learning rate 0.1, store the loss or total cost in a list <code>LOSS1</code>, and plot the results.\n"
   ]
  },
  {
   "cell_type": "code",
   "execution_count": 82,
   "metadata": {},
   "outputs": [
    {
     "data": {
      "text/plain": [
       "Text(0, 0.5, 'Epoch loss')"
      ]
     },
     "execution_count": 82,
     "metadata": {},
     "output_type": "execute_result"
    },
    {
     "data": {
      "image/png": "[encoded data removed]",
      "text/plain": [
       "<Figure size 432x288 with 1 Axes>"
      ]
     },
     "metadata": {
      "needs_background": "light"
     },
     "output_type": "display_data"
    }
   ],
   "source": [
    "# Practice create model1. Train the model with batch size 30 and learning rate 0.1, store the loss in a list <code>LOSS1</code>. Plot the results.\n",
    "\n",
    "from torch.utils.data import DataLoader\n",
    "\n",
    "data_set = Data2D()\n",
    "model1 = linear_regression(2,1)\n",
    "trainloader = DataLoader(dataset = data_set, batch_size=100)\n",
    "optimizer = torch.optim.SGD(model1.parameters(), lr=0.1)\n",
    "LOSS1 = [] \n",
    "criterion = torch.nn.MSELoss()\n",
    "\n",
    "#training\n",
    "def train_model(model, data, epochs, loss_func):\n",
    "    for epoch in range(epochs):\n",
    "        for x,y in data:\n",
    "            #forward step\n",
    "            yhat = model(x)\n",
    "            loss = loss_func(yhat, y)\n",
    "            LOSS1.append(loss)\n",
    "            optimizer.zero_grad()\n",
    "            loss.backward()\n",
    "            optimizer.step()\n",
    "\n",
    "train_model(model1, data_set, 100, criterion)\n",
    "\n",
    "#plotting\n",
    "plt.plot(LOSS1)\n",
    "plt.xlabel(\"Epochs\")\n",
    "plt.ylabel(\"Epoch loss\")"
   ]
  },
  {
   "cell_type": "markdown",
   "metadata": {},
   "source": [
    "Double-click <b>here</b> for the solution.\n",
    "\n",
    "<!-- Your answer is below:\n",
    "train_loader = DataLoader(dataset = data_set, batch_size = 30)\n",
    "model1 = linear_regression(2, 1)\n",
    "optimizer = optim.SGD(model1.parameters(), lr = 0.1)\n",
    "LOSS1 = []\n",
    "epochs = 100\n",
    "def train_model(epochs):    \n",
    "    for epoch in range(epochs):\n",
    "        for x,y in train_loader:\n",
    "            yhat = model1(x)\n",
    "            loss = criterion(yhat,y)\n",
    "            LOSS1.append(loss.item())\n",
    "            optimizer.zero_grad()\n",
    "            loss.backward()\n",
    "            optimizer.step()     \n",
    "train_model(epochs)\n",
    "Plot_2D_Plane(model1 , data_set)  \n",
    "plt.plot(LOSS1)\n",
    "plt.xlabel(\"iterations \")\n",
    "plt.ylabel(\"Cost/total loss \")\n",
    "-->\n"
   ]
  },
  {
   "cell_type": "markdown",
   "metadata": {},
   "source": [
    "Use the following validation data to calculate the total loss or cost for both models:\n"
   ]
  },
  {
   "cell_type": "code",
   "execution_count": null,
   "metadata": {},
   "outputs": [],
   "source": [
    "torch.manual_seed(2)\n",
    "\n",
    "validation_data = Data2D()\n",
    "Y = validation_data.y\n",
    "X = validation_data.x"
   ]
  },
  {
   "cell_type": "markdown",
   "metadata": {},
   "source": [
    "Double-click <b>here</b> for the solution.\n",
    "\n",
    "<!-- Your answer is below:\n",
    "print(\"total loss or cost for model: \",criterion(model(X),Y))\n",
    "print(\"total loss or cost for model: \",criterion(model1(X),Y))\n",
    "-->\n"
   ]
  },
  {
   "cell_type": "markdown",
   "metadata": {},
   "source": [
    "<a href=\"https://dataplatform.cloud.ibm.com/registration/stepone?context=cpdaas&apps=data_science_experience,watson_machine_learning\"><img src=\"https://cf-courses-data.s3.us.cloud-object-storage.appdomain.cloud/IBMDeveloperSkillsNetwork-DL0110EN-SkillsNetwork/Template/module%201/images/Watson_Studio.png\"/></a>\n"
   ]
  },
  {
   "cell_type": "markdown",
   "metadata": {},
   "source": [
    "<!--Empty Space for separating topics-->\n"
   ]
  },
  {
   "cell_type": "markdown",
   "metadata": {},
   "source": [
    "<h2>About the Authors:</h2> \n",
    "\n",
    "<a href=\"https://www.linkedin.com/in/joseph-s-50398b136/\">Joseph Santarcangelo</a> has a PhD in Electrical Engineering, his research focused on using machine learning, signal processing, and computer vision to determine how videos impact human cognition. Joseph has been working for IBM since he completed his PhD. \n"
   ]
  },
  {
   "cell_type": "markdown",
   "metadata": {},
   "source": [
    "Other contributors: <a href=\"https://www.linkedin.com/in/michelleccarey/\">Michelle Carey</a>, <a href=\"www.linkedin.com/in/jiahui-mavis-zhou-a4537814a\">Mavis Zhou</a>\n"
   ]
  },
  {
   "cell_type": "markdown",
   "metadata": {},
   "source": [
    "## Change Log\n",
    "\n",
    "| Date (YYYY-MM-DD) | Version | Changed By | Change Description                                          |\n",
    "| ----------------- | ------- | ---------- | ----------------------------------------------------------- |\n",
    "| 2020-09-23        | 2.0     | Shubham    | Migrated Lab to Markdown and added to course repo in GitLab |\n"
   ]
  },
  {
   "cell_type": "markdown",
   "metadata": {},
   "source": [
    "<hr>\n"
   ]
  },
  {
   "cell_type": "markdown",
   "metadata": {},
   "source": [
    "## <h3 align=\"center\"> © IBM Corporation 2020. All rights reserved. <h3/>\n"
   ]
  }
 ],
 "metadata": {
  "kernelspec": {
   "display_name": "Python",
   "language": "python",
   "name": "conda-env-python-py"
  },
  "language_info": {
   "codemirror_mode": {
    "name": "ipython",
    "version": 3
   },
   "file_extension": ".py",
   "mimetype": "text/x-python",
   "name": "python",
   "nbconvert_exporter": "python",
   "pygments_lexer": "ipython3",
   "version": "3.6.12"
  }
 },
 "nbformat": 4,
 "nbformat_minor": 4
}
